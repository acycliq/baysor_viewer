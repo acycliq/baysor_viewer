{
 "cells": [
  {
   "cell_type": "code",
   "execution_count": 23,
   "metadata": {},
   "outputs": [],
   "source": [
    "import pandas as pd\n",
    "import numpy as np"
   ]
  },
  {
   "cell_type": "code",
   "execution_count": 24,
   "metadata": {},
   "outputs": [],
   "source": [
    "cellCoords = pd.read_json('poly.json')"
   ]
  },
  {
   "cell_type": "code",
   "execution_count": 25,
   "metadata": {},
   "outputs": [
    {
     "data": {
      "text/plain": [
       "0       [[36.31197504024814, 164.8010216240624], [36.3...\n",
       "1       [[145.7656073153492, 160.04216804688411], [150...\n",
       "2       [[17.276560731534918, 283.77236105352006], [12...\n",
       "3       [[160.04216804688411, 231.4249717045587], [160...\n",
       "4       [[112.45363227510104, 255.21923959045023], [11...\n",
       "                              ...                        \n",
       "6539    [[4861.789502299051, 7307.8402409687005], [486...\n",
       "6540    [[6279.927868298186, 5956.325825050061], [6275...\n",
       "6541    [[3624.487572232691, 3648.2818401185827], [362...\n",
       "6542    [[64.86509650331797, 4233.620830111514], [64.8...\n",
       "6543    [[5042.625938231827, 5123.526449043858], [5047...\n",
       "Name: 0, Length: 6544, dtype: object"
      ]
     },
     "execution_count": 25,
     "metadata": {},
     "output_type": "execute_result"
    }
   ],
   "source": [
    "cellCoords[0]"
   ]
  },
  {
   "cell_type": "code",
   "execution_count": 27,
   "metadata": {},
   "outputs": [],
   "source": [
    "cellCoords = pd.read_json('poly.json')\n",
    "cellCoords['cell_id'] = np.arange(cellCoords.shape[0])\n",
    "cellCoords['label'] = cellCoords['cell_id'] + 1\n",
    "cellCoords = cellCoords.rename({0: 'coords'}, axis=1)\n",
    "cellCoords = cellCoords[['cell_id', 'label', 'coords']]"
   ]
  },
  {
   "cell_type": "code",
   "execution_count": 29,
   "metadata": {},
   "outputs": [],
   "source": [
    "cellCoords.to_json('cellCoords.json', orient='records')"
   ]
  },
  {
   "cell_type": "code",
   "execution_count": null,
   "metadata": {},
   "outputs": [],
   "source": []
  }
 ],
 "metadata": {
  "kernelspec": {
   "display_name": "Python 3",
   "language": "python",
   "name": "python3"
  },
  "language_info": {
   "codemirror_mode": {
    "name": "ipython",
    "version": 3
   },
   "file_extension": ".py",
   "mimetype": "text/x-python",
   "name": "python",
   "nbconvert_exporter": "python",
   "pygments_lexer": "ipython3",
   "version": "3.7.6"
  }
 },
 "nbformat": 4,
 "nbformat_minor": 4
}
