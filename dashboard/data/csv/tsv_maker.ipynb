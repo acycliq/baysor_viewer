{
 "cells": [
  {
   "cell_type": "markdown",
   "metadata": {},
   "source": [
    "# Notebook to convert the Baysor output (poly.json) and spots.csv to tsv so they can be used in the viewer"
   ]
  },
  {
   "cell_type": "markdown",
   "metadata": {},
   "source": [
    "The three files that are generated (cellCoords_0.tsv, geneData_0.tsv and cellData_0.tsv) should be \n",
    "copied in the relevant folder under dashboard/data/tsv/"
   ]
  },
  {
   "cell_type": "code",
   "execution_count": 1,
   "metadata": {},
   "outputs": [],
   "source": [
    "import pandas as pd\n",
    "import numpy as np"
   ]
  },
  {
   "cell_type": "markdown",
   "metadata": {},
   "source": [
    "## Create cellCoords_0.tsv"
   ]
  },
  {
   "cell_type": "code",
   "execution_count": 2,
   "metadata": {},
   "outputs": [],
   "source": [
    "cellCoords = pd.read_json('poly.json')\n",
    "cellCoords['cell_id'] = np.arange(cellCoords.shape[0])\n",
    "cellCoords['label'] = cellCoords['cell_id'] + 1"
   ]
  },
  {
   "cell_type": "code",
   "execution_count": 3,
   "metadata": {},
   "outputs": [],
   "source": [
    "cellCoords = cellCoords.rename({0: '_coords'}, axis=1)"
   ]
  },
  {
   "cell_type": "code",
   "execution_count": 4,
   "metadata": {},
   "outputs": [],
   "source": [
    "cellCoords = cellCoords[['cell_id', 'label', '_coords']]"
   ]
  },
  {
   "cell_type": "code",
   "execution_count": 5,
   "metadata": {},
   "outputs": [],
   "source": [
    "coords = []\n",
    "for index, row in cellCoords.iterrows():\n",
    "    c = np.array(row['_coords']).astype(np.int64)\n",
    "    coords.append(c.tolist())"
   ]
  },
  {
   "cell_type": "code",
   "execution_count": 6,
   "metadata": {},
   "outputs": [],
   "source": [
    "cellCoords['coords'] = coords\n",
    "cellCoords = cellCoords[['cell_id', 'label', 'coords']]\n",
    "cellCoords.to_csv('cellCoords_0.tsv', index=False, sep='\\t')"
   ]
  },
  {
   "cell_type": "code",
   "execution_count": 7,
   "metadata": {},
   "outputs": [
    {
     "data": {
      "text/html": [
       "<div>\n",
       "<style scoped>\n",
       "    .dataframe tbody tr th:only-of-type {\n",
       "        vertical-align: middle;\n",
       "    }\n",
       "\n",
       "    .dataframe tbody tr th {\n",
       "        vertical-align: top;\n",
       "    }\n",
       "\n",
       "    .dataframe thead th {\n",
       "        text-align: right;\n",
       "    }\n",
       "</style>\n",
       "<table border=\"1\" class=\"dataframe\">\n",
       "  <thead>\n",
       "    <tr style=\"text-align: right;\">\n",
       "      <th></th>\n",
       "      <th>cell_id</th>\n",
       "      <th>label</th>\n",
       "      <th>coords</th>\n",
       "    </tr>\n",
       "  </thead>\n",
       "  <tbody>\n",
       "    <tr>\n",
       "      <th>0</th>\n",
       "      <td>0</td>\n",
       "      <td>1</td>\n",
       "      <td>[[84, 150], [79, 150], [74, 150], [70, 150], [...</td>\n",
       "    </tr>\n",
       "    <tr>\n",
       "      <th>1</th>\n",
       "      <td>1</td>\n",
       "      <td>2</td>\n",
       "      <td>[[204, 159], [199, 159], [194, 159], [194, 155...</td>\n",
       "    </tr>\n",
       "    <tr>\n",
       "      <th>2</th>\n",
       "      <td>2</td>\n",
       "      <td>3</td>\n",
       "      <td>[[70, 270], [74, 270], [79, 270], [84, 270], [...</td>\n",
       "    </tr>\n",
       "    <tr>\n",
       "      <th>3</th>\n",
       "      <td>3</td>\n",
       "      <td>4</td>\n",
       "      <td>[[137, 255], [141, 255], [146, 255], [151, 255...</td>\n",
       "    </tr>\n",
       "    <tr>\n",
       "      <th>4</th>\n",
       "      <td>4</td>\n",
       "      <td>5</td>\n",
       "      <td>[[290, 83], [290, 88], [295, 88], [299, 88], [...</td>\n",
       "    </tr>\n",
       "  </tbody>\n",
       "</table>\n",
       "</div>"
      ],
      "text/plain": [
       "   cell_id  label                                             coords\n",
       "0        0      1  [[84, 150], [79, 150], [74, 150], [70, 150], [...\n",
       "1        1      2  [[204, 159], [199, 159], [194, 159], [194, 155...\n",
       "2        2      3  [[70, 270], [74, 270], [79, 270], [84, 270], [...\n",
       "3        3      4  [[137, 255], [141, 255], [146, 255], [151, 255...\n",
       "4        4      5  [[290, 83], [290, 88], [295, 88], [299, 88], [..."
      ]
     },
     "execution_count": 7,
     "metadata": {},
     "output_type": "execute_result"
    }
   ],
   "source": [
    "cellCoords.head()"
   ]
  },
  {
   "cell_type": "markdown",
   "metadata": {},
   "source": [
    "## Create geneData_0.tsv"
   ]
  },
  {
   "cell_type": "code",
   "execution_count": 8,
   "metadata": {},
   "outputs": [],
   "source": [
    "geneData = pd.read_csv('spots_all.csv')\n",
    "geneData['x'] = geneData.x.astype(np.int64)\n",
    "geneData['y'] = geneData.y.astype(np.int64)\n"
   ]
  },
  {
   "cell_type": "code",
   "execution_count": 9,
   "metadata": {},
   "outputs": [],
   "source": [
    "geneData = geneData.rename({'gene': 'Gene'}, axis=1)\n",
    "_, Expt = np.unique(geneData.Gene, return_inverse=True)\n",
    "geneData['Expt'] = Expt\n",
    "# geneData = geneData[['Gene','Expt', 'x', 'y']]\n",
    "# geneData"
   ]
  },
  {
   "cell_type": "code",
   "execution_count": 10,
   "metadata": {},
   "outputs": [
    {
     "data": {
      "text/plain": [
       "6620"
      ]
     },
     "execution_count": 10,
     "metadata": {},
     "output_type": "execute_result"
    }
   ],
   "source": [
    "background_cell_id = cellCoords.cell_id.max() + 1\n",
    "background_cell_id"
   ]
  },
  {
   "cell_type": "code",
   "execution_count": 11,
   "metadata": {},
   "outputs": [],
   "source": [
    "# geneData"
   ]
  },
  {
   "cell_type": "code",
   "execution_count": 12,
   "metadata": {},
   "outputs": [],
   "source": [
    "neighbour = int(background_cell_id) * np.ones(geneData.shape[0])\n",
    "neighbour_array = [[int(x)] for x in neighbour]\n",
    "neighbour_prob = [[1.0] for x in neighbour]"
   ]
  },
  {
   "cell_type": "code",
   "execution_count": 13,
   "metadata": {},
   "outputs": [],
   "source": [
    "geneData['neighbour'] = neighbour.astype(np.int)\n",
    "geneData['neighbour_array'] = neighbour_array\n",
    "geneData['neighbour_prob'] = neighbour_prob"
   ]
  },
  {
   "cell_type": "code",
   "execution_count": 14,
   "metadata": {},
   "outputs": [],
   "source": [
    "geneData.to_csv('geneData_0.tsv', index=False, sep='\\t')"
   ]
  },
  {
   "cell_type": "code",
   "execution_count": 15,
   "metadata": {},
   "outputs": [
    {
     "data": {
      "text/html": [
       "<div>\n",
       "<style scoped>\n",
       "    .dataframe tbody tr th:only-of-type {\n",
       "        vertical-align: middle;\n",
       "    }\n",
       "\n",
       "    .dataframe tbody tr th {\n",
       "        vertical-align: top;\n",
       "    }\n",
       "\n",
       "    .dataframe thead th {\n",
       "        text-align: right;\n",
       "    }\n",
       "</style>\n",
       "<table border=\"1\" class=\"dataframe\">\n",
       "  <thead>\n",
       "    <tr style=\"text-align: right;\">\n",
       "      <th></th>\n",
       "      <th>x</th>\n",
       "      <th>y</th>\n",
       "      <th>Gene</th>\n",
       "      <th>Expt</th>\n",
       "      <th>neighbour</th>\n",
       "      <th>neighbour_array</th>\n",
       "      <th>neighbour_prob</th>\n",
       "    </tr>\n",
       "  </thead>\n",
       "  <tbody>\n",
       "    <tr>\n",
       "      <th>0</th>\n",
       "      <td>8473</td>\n",
       "      <td>2043</td>\n",
       "      <td>Aldoc</td>\n",
       "      <td>0</td>\n",
       "      <td>6620</td>\n",
       "      <td>[6620]</td>\n",
       "      <td>[1.0]</td>\n",
       "    </tr>\n",
       "    <tr>\n",
       "      <th>1</th>\n",
       "      <td>9208</td>\n",
       "      <td>2035</td>\n",
       "      <td>Aldoc</td>\n",
       "      <td>0</td>\n",
       "      <td>6620</td>\n",
       "      <td>[6620]</td>\n",
       "      <td>[1.0]</td>\n",
       "    </tr>\n",
       "    <tr>\n",
       "      <th>2</th>\n",
       "      <td>9035</td>\n",
       "      <td>2025</td>\n",
       "      <td>Aldoc</td>\n",
       "      <td>0</td>\n",
       "      <td>6620</td>\n",
       "      <td>[6620]</td>\n",
       "      <td>[1.0]</td>\n",
       "    </tr>\n",
       "    <tr>\n",
       "      <th>3</th>\n",
       "      <td>7982</td>\n",
       "      <td>2020</td>\n",
       "      <td>Aldoc</td>\n",
       "      <td>0</td>\n",
       "      <td>6620</td>\n",
       "      <td>[6620]</td>\n",
       "      <td>[1.0]</td>\n",
       "    </tr>\n",
       "    <tr>\n",
       "      <th>4</th>\n",
       "      <td>8767</td>\n",
       "      <td>2014</td>\n",
       "      <td>Aldoc</td>\n",
       "      <td>0</td>\n",
       "      <td>6620</td>\n",
       "      <td>[6620]</td>\n",
       "      <td>[1.0]</td>\n",
       "    </tr>\n",
       "  </tbody>\n",
       "</table>\n",
       "</div>"
      ],
      "text/plain": [
       "      x     y   Gene  Expt  neighbour neighbour_array neighbour_prob\n",
       "0  8473  2043  Aldoc     0       6620          [6620]          [1.0]\n",
       "1  9208  2035  Aldoc     0       6620          [6620]          [1.0]\n",
       "2  9035  2025  Aldoc     0       6620          [6620]          [1.0]\n",
       "3  7982  2020  Aldoc     0       6620          [6620]          [1.0]\n",
       "4  8767  2014  Aldoc     0       6620          [6620]          [1.0]"
      ]
     },
     "execution_count": 15,
     "metadata": {},
     "output_type": "execute_result"
    }
   ],
   "source": [
    "geneData.head()"
   ]
  },
  {
   "cell_type": "code",
   "execution_count": null,
   "metadata": {},
   "outputs": [],
   "source": []
  },
  {
   "cell_type": "markdown",
   "metadata": {},
   "source": [
    "## Create cellData_0.tsv"
   ]
  },
  {
   "cell_type": "code",
   "execution_count": 16,
   "metadata": {},
   "outputs": [],
   "source": [
    "cellData = pd.DataFrame({'Cell_Num': cellCoords.cell_id})\n",
    "cellData['X'] = 0\n",
    "cellData['Y'] = 0\n",
    "cellData['Genenames'] = [[] for x in cellData.X]\n",
    "cellData['CellGeneCount'] = [[] for x in cellData.X]\n",
    "cellData['ClassName'] = [['Generic'] for x in cellData.X]\n",
    "cellData['Prob'] = [[1.0] for x in cellData.X]"
   ]
  },
  {
   "cell_type": "code",
   "execution_count": 17,
   "metadata": {},
   "outputs": [
    {
     "data": {
      "text/html": [
       "<div>\n",
       "<style scoped>\n",
       "    .dataframe tbody tr th:only-of-type {\n",
       "        vertical-align: middle;\n",
       "    }\n",
       "\n",
       "    .dataframe tbody tr th {\n",
       "        vertical-align: top;\n",
       "    }\n",
       "\n",
       "    .dataframe thead th {\n",
       "        text-align: right;\n",
       "    }\n",
       "</style>\n",
       "<table border=\"1\" class=\"dataframe\">\n",
       "  <thead>\n",
       "    <tr style=\"text-align: right;\">\n",
       "      <th></th>\n",
       "      <th>Cell_Num</th>\n",
       "      <th>X</th>\n",
       "      <th>Y</th>\n",
       "      <th>Genenames</th>\n",
       "      <th>CellGeneCount</th>\n",
       "      <th>ClassName</th>\n",
       "      <th>Prob</th>\n",
       "    </tr>\n",
       "  </thead>\n",
       "  <tbody>\n",
       "    <tr>\n",
       "      <th>0</th>\n",
       "      <td>0</td>\n",
       "      <td>0</td>\n",
       "      <td>0</td>\n",
       "      <td>[]</td>\n",
       "      <td>[]</td>\n",
       "      <td>[Generic]</td>\n",
       "      <td>[1.0]</td>\n",
       "    </tr>\n",
       "    <tr>\n",
       "      <th>1</th>\n",
       "      <td>1</td>\n",
       "      <td>0</td>\n",
       "      <td>0</td>\n",
       "      <td>[]</td>\n",
       "      <td>[]</td>\n",
       "      <td>[Generic]</td>\n",
       "      <td>[1.0]</td>\n",
       "    </tr>\n",
       "    <tr>\n",
       "      <th>2</th>\n",
       "      <td>2</td>\n",
       "      <td>0</td>\n",
       "      <td>0</td>\n",
       "      <td>[]</td>\n",
       "      <td>[]</td>\n",
       "      <td>[Generic]</td>\n",
       "      <td>[1.0]</td>\n",
       "    </tr>\n",
       "    <tr>\n",
       "      <th>3</th>\n",
       "      <td>3</td>\n",
       "      <td>0</td>\n",
       "      <td>0</td>\n",
       "      <td>[]</td>\n",
       "      <td>[]</td>\n",
       "      <td>[Generic]</td>\n",
       "      <td>[1.0]</td>\n",
       "    </tr>\n",
       "    <tr>\n",
       "      <th>4</th>\n",
       "      <td>4</td>\n",
       "      <td>0</td>\n",
       "      <td>0</td>\n",
       "      <td>[]</td>\n",
       "      <td>[]</td>\n",
       "      <td>[Generic]</td>\n",
       "      <td>[1.0]</td>\n",
       "    </tr>\n",
       "  </tbody>\n",
       "</table>\n",
       "</div>"
      ],
      "text/plain": [
       "   Cell_Num  X  Y Genenames CellGeneCount  ClassName   Prob\n",
       "0         0  0  0        []            []  [Generic]  [1.0]\n",
       "1         1  0  0        []            []  [Generic]  [1.0]\n",
       "2         2  0  0        []            []  [Generic]  [1.0]\n",
       "3         3  0  0        []            []  [Generic]  [1.0]\n",
       "4         4  0  0        []            []  [Generic]  [1.0]"
      ]
     },
     "execution_count": 17,
     "metadata": {},
     "output_type": "execute_result"
    }
   ],
   "source": [
    "cellData.to_csv('cellData_0.tsv', index=False, sep='\\t')\n",
    "cellData.head()"
   ]
  },
  {
   "cell_type": "code",
   "execution_count": null,
   "metadata": {},
   "outputs": [],
   "source": []
  }
 ],
 "metadata": {
  "kernelspec": {
   "display_name": "Python 3",
   "language": "python",
   "name": "python3"
  },
  "language_info": {
   "codemirror_mode": {
    "name": "ipython",
    "version": 3
   },
   "file_extension": ".py",
   "mimetype": "text/x-python",
   "name": "python",
   "nbconvert_exporter": "python",
   "pygments_lexer": "ipython3",
   "version": "3.7.6"
  }
 },
 "nbformat": 4,
 "nbformat_minor": 4
}
